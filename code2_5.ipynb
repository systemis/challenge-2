{
  "nbformat": 4,
  "nbformat_minor": 0,
  "metadata": {
    "colab": {
      "name": "code2-5.ipynb",
      "provenance": [],
      "mount_file_id": "1iWbBlXJxMYwsjJQb_J82CyXHAE_1zobG",
      "authorship_tag": "ABX9TyMpS75AHvWLAesRP1gVKL99",
      "include_colab_link": true
    },
    "kernelspec": {
      "name": "python3",
      "display_name": "Python 3"
    },
    "language_info": {
      "name": "python"
    }
  },
  "cells": [
    {
      "cell_type": "markdown",
      "metadata": {
        "id": "view-in-github",
        "colab_type": "text"
      },
      "source": [
        "<a href=\"https://colab.research.google.com/github/systemis/challenge-2/blob/main/code2_5.ipynb\" target=\"_parent\"><img src=\"https://colab.research.google.com/assets/colab-badge.svg\" alt=\"Open In Colab\"/></a>"
      ]
    },
    {
      "cell_type": "code",
      "metadata": {
        "id": "pHoXiL80uMZH"
      },
      "source": [
        "import cv2\n",
        "import pandas as pd \n",
        "import matplotlib.pyplot as plt\n",
        "from os import listdir \n",
        "from os.path  import isfile, join\n",
        "from google.colab import files"
      ],
      "execution_count": 1,
      "outputs": []
    },
    {
      "cell_type": "code",
      "metadata": {
        "id": "IC4U7ZrXud9T"
      },
      "source": [
        "data_name_list = [f for f in listdir('/content/drive/MyDrive/data') if isfile(join('/content/drive/MyDrive/data', f))]\n"
      ],
      "execution_count": 2,
      "outputs": []
    },
    {
      "cell_type": "code",
      "metadata": {
        "id": "hia83xkvvD-r"
      },
      "source": [
        "height = 600 \n",
        "width = 463\n",
        "\n",
        "# 463, 600\n",
        "\n",
        "character_table = ['A', 'B', 'C', 'D', 'E']\n",
        "answer = 5 \n",
        "questions_part = 5\n",
        "total_part = 6\n",
        "ques_each_side = 30\n",
        "total_question = 60\n",
        "\n",
        "statistical_table = [0] * total_question\n",
        "\n",
        "def generateColumns(): \n",
        "  columns = ['Student ID', 'Surname', 'First Name', 'Code']\n",
        "  for i in range(60): columns.append('Question: '+str((i+1)))\n",
        "  columns.append('Score')\n",
        "  return columns\n",
        "\n",
        "def grid(): \n",
        "  _grid = [] \n",
        "  for i in range(total_question): \n",
        "    _grid.append([])\n",
        "    for j in range(answer): \n",
        "      _grid[i].append(0)\n",
        "  return _grid\n",
        "\n",
        "def show_images(images):\n",
        "    for image in images: \n",
        "        imshow = plt.imshow(image)\n",
        "        plt.show()\n",
        "\n"
      ],
      "execution_count": 5,
      "outputs": []
    },
    {
      "cell_type": "code",
      "metadata": {
        "id": "AUPlojSzvqXm"
      },
      "source": [
        "img_filenames = data_name_list\n",
        "img_list = list()\n",
        "student_data_list = list()\n",
        "for name in img_filenames: \n",
        "  if name == '.DS_Store': continue\n",
        "  img = plt.imread('/content/drive/MyDrive/data/' + name)\n",
        "  img = cv2.resize(img, (width, height), interpolation = cv2.INTER_AREA)\n",
        "  img = img[90:, :]\n",
        "  img_list.append(img)\n",
        "  \n",
        "  name = name.replace('.png', '').split('_')\n",
        "  if len(name) < 4: \n",
        "    print(name)\n",
        "    continue\n",
        "  student = [name[0], name[1], name[2], name[3]]\n",
        "  student_data_list.append(student)\n",
        "\n",
        "def get_rect_list(contours): \n",
        "  rect_list = list() \n",
        "  for p_c in contours: \n",
        "    arc_length = cv2.arcLength(p_c, True)\n",
        "    approx = cv2.approxPolyDP(p_c, arc_length * 0.02, True)\n",
        "    if approx == 4: \n",
        "      rect_list.append(p_c)\n",
        "  return rect_list\n",
        "\n",
        "def check_part(sides, side_pos, pc, result_data): \n",
        "  part = sides[side_pos][(80*pc):80*(pc+1), :]\n",
        "  part = part[5:70, :]\n",
        "  gray = cv2.cvtColor(part, cv2.COLOR_BGR2GRAY)\n",
        "  _, threshold = cv2.threshold(gray, 20, 5, cv2.THRESH_BINARY_INV)\n",
        "  \n",
        "  row_height = part.shape[0] // questions_part\n",
        "  col_width = part.shape[1] // answer\n",
        "  part_gray = cv2.cvtColor(part, cv2.COLOR_BGR2GRAY)\n",
        "  # show_images([part])\n",
        "  part = part_gray\n",
        "  for i in range(questions_part): \n",
        "    current_question = (questions_part*pc + i + 1) + ques_each_side*side_pos\n",
        "    row = part[row_height*i:row_height*(i+1), :]\n",
        "    for j in range(answer): \n",
        "      col = row[:, col_width*j:col_width*(j+1)]\n",
        "      count = cv2.countNonZero(col)\n",
        "      if count < 300: \n",
        "        result_data[current_question - 1][j] = 1\n",
        "        \n"
      ],
      "execution_count": 7,
      "outputs": []
    },
    {
      "cell_type": "code",
      "metadata": {
        "id": "3thTF1Qevyjd"
      },
      "source": [
        "def detect_checked(img, only_firstfive=False): \n",
        "  # img = img_list[0]\n",
        "  img_copy = img.copy()\n",
        "  left_side = img[:, 80:200]\n",
        "  right_side = img[:, 290:410]\n",
        "  gray_img = cv2.cvtColor(img, cv2.COLOR_BGR2GRAY)\n",
        "  blur_img = cv2.GaussianBlur(gray_img, (5, 5), 0)\n",
        "\n",
        "  left_side = left_side[:490, :]\n",
        "  right_side = right_side[:490, :]\n",
        "  sides = [left_side, right_side]\n",
        "\n",
        "  result_data = grid()\n",
        "  if only_firstfive: \n",
        "    for side_pos in range(1): \n",
        "      part_height = sides[side_pos].shape[0] // total_part\n",
        "      for pc in range(1): \n",
        "        check_part(sides, side_pos, pc, result_data)\n",
        "    return result_data\n",
        "  for side_pos in range(2): \n",
        "    part_height = sides[side_pos].shape[0] // total_part\n",
        "    for pc in range(total_part): \n",
        "      check_part(sides, side_pos, pc, result_data)\n",
        "  return result_data\n",
        "\n"
      ],
      "execution_count": 8,
      "outputs": []
    },
    {
      "cell_type": "code",
      "metadata": {
        "id": "ka6oCctxwJyU"
      },
      "source": [
        "def detectAnswerData(): \n",
        "  answer_data = ['' for i in range(total_question)]\n",
        "  answer_image = plt.imread('/content/drive/MyDrive/3A.png')\n",
        "  answer_image = cv2.resize(answer_image, (width, height), interpolation = cv2.INTER_AREA)\n",
        "  answer_image = answer_image[90:, :]\n",
        "  checked_data = detect_checked(answer_image) \n",
        "  # show_images([answer_image])\n",
        "  for i in range(len(checked_data)): \n",
        "    for j in range(len(checked_data[i])): \n",
        "      if checked_data[i][j]: \n",
        "        answer_data[i] = character_table[j]\n",
        "  return answer_data\n",
        "\n",
        "answer_data = detectAnswerData()\n",
        "\n",
        "\n",
        "def grade(checked_data, student, is_statistical=False): \n",
        "  score = 0 \n",
        "  check =0 \n",
        "  for (question_index, question_data) in enumerate(checked_data): \n",
        "    for j in range(len(question_data)): \n",
        "      if question_data[j] == 1: \n",
        "        result = character_table[j]\n",
        "        student.append(result)\n",
        "        check += 1 \n",
        "        if result == answer_data[question_index]: \n",
        "          if is_statistical: statistical_table[question_index] += 1 \n",
        "          score += 1 \n",
        "        break\n",
        "  return score\n",
        "\n",
        "def checkDataInFirstFive(): \n",
        "  student_data_copy = student_data_list.copy()\n",
        "  for (i, image) in enumerate(img_list): \n",
        "    student = student_data_copy[i].copy()\n",
        "    checked_data = detect_checked(image, only_firstfive=True)\n",
        "    checked_data = checked_data[:5]\n",
        "    for question_data in checked_data: \n",
        "      for j in range(len(question_data)): \n",
        "        if question_data[j] == 1: \n",
        "          student.append(character_table[j])\n",
        "    student_data_copy[i] = student\n",
        "\n",
        "  columns = ['Student ID', 'Surname', 'First Name', 'Code']\n",
        "  for i in range(5): columns.append('Question: '+str((i+1)))\n",
        "  data_frame = pd.DataFrame(student_data_copy, columns=columns)\n",
        "  print('--- Checked of first five question of all student: -----')\n",
        "  print(data_frame)\n",
        "  print('\\n')"
      ],
      "execution_count": 9,
      "outputs": []
    },
    {
      "cell_type": "markdown",
      "metadata": {
        "id": "jshpn64axdEz"
      },
      "source": [
        "#Question 5"
      ]
    },
    {
      "cell_type": "code",
      "metadata": {
        "id": "BKbOwHu5wTnH"
      },
      "source": [
        "def gradingStudentInClass(): \n",
        "  global statistical_table\n",
        "  student_data_copy = student_data_list.copy()\n",
        "  for i in range(len(student_data_copy)): \n",
        "    image = img_list[i]\n",
        "    student = student_data_copy[i].copy()\n",
        "    checked_data = detect_checked(image)\n",
        "    score = grade(checked_data, student, True)\n",
        "    score = (score / total_question) * 100\n",
        "    student.append(score)\n",
        "    student_data_copy[i] = student\n",
        "  \n",
        "  columns = generateColumns()\n",
        "  data_frame = pd.DataFrame(student_data_copy, columns=columns)\n",
        "\n",
        "  grading_columns = ['ID', 'Score']\n",
        "  grading_data = [[item[0], item[-1]] for item in student_data_copy]\n",
        "  print('---- Generate grading score of class: Done ----\\n')\n",
        "  # print(student_data_copy)\n",
        "  for i in range(len(student_data_copy)): \n",
        "    if len(student_data_copy[i]) > 65: \n",
        "      print(student_data_copy[i])\n",
        "  grading_data_frame = pd.DataFrame(grading_data, columns=grading_columns)\n",
        "  grading_data_frame.to_csv('grading.csv')\n",
        "  return grading_data_frame"
      ],
      "execution_count": 15,
      "outputs": []
    },
    {
      "cell_type": "code",
      "metadata": {
        "colab": {
          "base_uri": "https://localhost:8080/"
        },
        "id": "uY5FQkgkwd_p",
        "outputId": "734f3c12-71f7-40dd-c3a4-2f76c42f31ae"
      },
      "source": [
        "score = gradingStudentInClass()"
      ],
      "execution_count": 16,
      "outputs": [
        {
          "output_type": "stream",
          "name": "stdout",
          "text": [
            "---- Generate grading score of class: Done ----\n",
            "\n"
          ]
        }
      ]
    },
    {
      "cell_type": "code",
      "metadata": {
        "colab": {
          "base_uri": "https://localhost:8080/",
          "height": 417
        },
        "id": "k-wqohjSwliB",
        "outputId": "03fd7a4a-5344-4a7c-916f-4cb789d186b6"
      },
      "source": [
        "score"
      ],
      "execution_count": 17,
      "outputs": [
        {
          "output_type": "execute_result",
          "data": {
            "text/html": [
              "<div>\n",
              "<style scoped>\n",
              "    .dataframe tbody tr th:only-of-type {\n",
              "        vertical-align: middle;\n",
              "    }\n",
              "\n",
              "    .dataframe tbody tr th {\n",
              "        vertical-align: top;\n",
              "    }\n",
              "\n",
              "    .dataframe thead th {\n",
              "        text-align: right;\n",
              "    }\n",
              "</style>\n",
              "<table border=\"1\" class=\"dataframe\">\n",
              "  <thead>\n",
              "    <tr style=\"text-align: right;\">\n",
              "      <th></th>\n",
              "      <th>ID</th>\n",
              "      <th>Score</th>\n",
              "    </tr>\n",
              "  </thead>\n",
              "  <tbody>\n",
              "    <tr>\n",
              "      <th>0</th>\n",
              "      <td>2000129</td>\n",
              "      <td>46.666667</td>\n",
              "    </tr>\n",
              "    <tr>\n",
              "      <th>1</th>\n",
              "      <td>2000104</td>\n",
              "      <td>28.333333</td>\n",
              "    </tr>\n",
              "    <tr>\n",
              "      <th>2</th>\n",
              "      <td>2000318</td>\n",
              "      <td>25.000000</td>\n",
              "    </tr>\n",
              "    <tr>\n",
              "      <th>3</th>\n",
              "      <td>20020027</td>\n",
              "      <td>25.000000</td>\n",
              "    </tr>\n",
              "    <tr>\n",
              "      <th>4</th>\n",
              "      <td>2000147</td>\n",
              "      <td>18.333333</td>\n",
              "    </tr>\n",
              "    <tr>\n",
              "      <th>...</th>\n",
              "      <td>...</td>\n",
              "      <td>...</td>\n",
              "    </tr>\n",
              "    <tr>\n",
              "      <th>76</th>\n",
              "      <td>2000140</td>\n",
              "      <td>23.333333</td>\n",
              "    </tr>\n",
              "    <tr>\n",
              "      <th>77</th>\n",
              "      <td>2000112</td>\n",
              "      <td>28.333333</td>\n",
              "    </tr>\n",
              "    <tr>\n",
              "      <th>78</th>\n",
              "      <td>2000136</td>\n",
              "      <td>25.000000</td>\n",
              "    </tr>\n",
              "    <tr>\n",
              "      <th>79</th>\n",
              "      <td>2000114</td>\n",
              "      <td>18.333333</td>\n",
              "    </tr>\n",
              "    <tr>\n",
              "      <th>80</th>\n",
              "      <td>2000134</td>\n",
              "      <td>40.000000</td>\n",
              "    </tr>\n",
              "  </tbody>\n",
              "</table>\n",
              "<p>81 rows × 2 columns</p>\n",
              "</div>"
            ],
            "text/plain": [
              "          ID      Score\n",
              "0    2000129  46.666667\n",
              "1    2000104  28.333333\n",
              "2    2000318  25.000000\n",
              "3   20020027  25.000000\n",
              "4    2000147  18.333333\n",
              "..       ...        ...\n",
              "76   2000140  23.333333\n",
              "77   2000112  28.333333\n",
              "78   2000136  25.000000\n",
              "79   2000114  18.333333\n",
              "80   2000134  40.000000\n",
              "\n",
              "[81 rows x 2 columns]"
            ]
          },
          "metadata": {},
          "execution_count": 17
        }
      ]
    },
    {
      "cell_type": "code",
      "metadata": {
        "colab": {
          "base_uri": "https://localhost:8080/",
          "height": 120
        },
        "id": "S5bsMymOxRtN",
        "outputId": "e396ce7c-eba0-48cf-b1f0-3ab20b969e71"
      },
      "source": [
        "score.to_csv()"
      ],
      "execution_count": 18,
      "outputs": [
        {
          "output_type": "execute_result",
          "data": {
            "application/vnd.google.colaboratory.intrinsic+json": {
              "type": "string"
            },
            "text/plain": [
              "',ID,Score\\n0,2000129,46.666666666666664\\n1,2000104,28.333333333333332\\n2,2000318,25.0\\n3,20020027,25.0\\n4,2000147,18.333333333333332\\n5,2000109,25.0\\n6,2000111,25.0\\n7,2000137,21.666666666666668\\n8,20003,20.0\\n9,2000150,30.0\\n10,2000105,20.0\\n11,2000102,25.0\\n12,2000127,51.66666666666667\\n13,2000342,21.666666666666668\\n14,2000310,18.333333333333332\\n15,2000107,18.333333333333332\\n16,2000312,46.666666666666664\\n17,2000339,26.666666666666668\\n18,2000133,43.333333333333336\\n19,2000130,48.333333333333336\\n20,2000106,25.0\\n21,2000101,28.333333333333332\\n22,2000118,75.0\\n23,20020029,25.0\\n24,2000113,23.333333333333332\\n25,2000348,26.666666666666668\\n26,2000149,26.666666666666668\\n27,2000123,65.0\\n28,2000119,100.0\\n29,2000322,23.333333333333332\\n30,2000325,30.0\\n31,2000329,25.0\\n32,20020030,20.0\\n33,2000120,71.66666666666667\\n34,2000139,26.666666666666668\\n35,2000135,21.666666666666668\\n36,2000143,18.333333333333332\\n37,20020031,28.333333333333332\\n38,20020033,23.333333333333332\\n39,2000108,40.0\\n40,2000333,18.333333333333332\\n41,2000103,18.333333333333332\\n42,2000314,43.333333333333336\\n43,2000337,18.333333333333332\\n44,2000144,16.666666666666664\\n45,2000347,28.333333333333332\\n46,2000313,48.333333333333336\\n47,2000142,21.666666666666668\\n48,2000148,26.666666666666668\\n49,2000126,48.333333333333336\\n50,2000320,20.0\\n51,20020032,25.0\\n52,2000334,16.666666666666664\\n53,2000122,60.0\\n54,2000115,23.333333333333332\\n55,2000317,21.666666666666668\\n56,2000116,63.33333333333333\\n57,200250028,18.333333333333332\\n58,2000315,40.0\\n59,2000146,18.333333333333332\\n60,2000323,26.666666666666668\\n61,2000132,48.333333333333336\\n62,2000128,51.66666666666667\\n63,2000316,48.333333333333336\\n64,2000319,21.666666666666668\\n65,2000145,16.666666666666664\\n66,2000141,26.666666666666668\\n67,2000345,16.666666666666664\\n68,2000138,20.0\\n69,2000125,50.0\\n70,20020025,28.333333333333332\\n71,2000117,70.0\\n72,2000327,25.0\\n73,2000110,28.333333333333332\\n74,2000124,53.333333333333336\\n75,2000321,26.666666666666668\\n76,2000140,23.333333333333332\\n77,2000112,28.333333333333332\\n78,2000136,25.0\\n79,2000114,18.333333333333332\\n80,2000134,40.0\\n'"
            ]
          },
          "metadata": {},
          "execution_count": 18
        }
      ]
    }
  ]
}