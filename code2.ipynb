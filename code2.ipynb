{
  "nbformat": 4,
  "nbformat_minor": 0,
  "metadata": {
    "colab": {
      "name": "code2.ipynb",
      "provenance": [],
      "mount_file_id": "1zkgim7dJPhxLn5MN-nsTF4oR2732c59u",
      "authorship_tag": "ABX9TyOjxgKNcY2IGvEx9jEU8wzJ",
      "include_colab_link": true
    },
    "kernelspec": {
      "name": "python3",
      "display_name": "Python 3"
    },
    "language_info": {
      "name": "python"
    }
  },
  "cells": [
    {
      "cell_type": "markdown",
      "metadata": {
        "id": "view-in-github",
        "colab_type": "text"
      },
      "source": [
        "<a href=\"https://colab.research.google.com/github/systemis/challenge-2/blob/main/code2.ipynb\" target=\"_parent\"><img src=\"https://colab.research.google.com/assets/colab-badge.svg\" alt=\"Open In Colab\"/></a>"
      ]
    },
    {
      "cell_type": "code",
      "metadata": {
        "id": "vufZnXOtriH-"
      },
      "source": [
        "import cv2\n",
        "import pandas as pd \n",
        "import matplotlib.pyplot as plt\n",
        "from os import listdir \n",
        "from os.path  import isfile, join\n",
        "from google.colab import files"
      ],
      "execution_count": 169,
      "outputs": []
    },
    {
      "cell_type": "code",
      "metadata": {
        "colab": {
          "base_uri": "https://localhost:8080/"
        },
        "id": "HKi6hlLDsEhO",
        "outputId": "9115e1c8-05e1-4f5c-efdc-fe2528b35c24"
      },
      "source": [
        "from google.colab import drive\n",
        "drive.mount('/content/drive')"
      ],
      "execution_count": 170,
      "outputs": [
        {
          "output_type": "stream",
          "name": "stdout",
          "text": [
            "Drive already mounted at /content/drive; to attempt to forcibly remount, call drive.mount(\"/content/drive\", force_remount=True).\n"
          ]
        }
      ]
    },
    {
      "cell_type": "markdown",
      "metadata": {
        "id": "SkJ1oM_nDSuZ"
      },
      "source": [
        "#Question 2"
      ]
    },
    {
      "cell_type": "code",
      "metadata": {
        "id": "gANtLh8yr1UT"
      },
      "source": [
        "data_in = [f for f in listdir('/content/drive/MyDrive/data') if isfile(join('/content/drive/MyDrive/data', f))]"
      ],
      "execution_count": 171,
      "outputs": []
    },
    {
      "cell_type": "code",
      "metadata": {
        "colab": {
          "base_uri": "https://localhost:8080/",
          "height": 434
        },
        "id": "-gEO98DqsoQI",
        "outputId": "516b6ccf-b968-468d-f8d2-16cc090a1e41"
      },
      "source": [
        "dataf = data_in\n",
        "studentlist = list()\n",
        "for name in dataf: \n",
        "  name = name.replace('.png', '').split('_')\n",
        "  if len(name) < 4: \n",
        "    print(name)\n",
        "    continue\n",
        "  student = [name[0], name[1], name[2], name[3]]\n",
        "  studentlist.append(student)\n",
        "studentsdf = pd.DataFrame(studentlist, columns=['Student ID', 'Surname', 'First Name', 'Code'])\n",
        "studentsdf"
      ],
      "execution_count": 172,
      "outputs": [
        {
          "output_type": "stream",
          "name": "stdout",
          "text": [
            "['.DS', 'Store']\n"
          ]
        },
        {
          "output_type": "execute_result",
          "data": {
            "text/html": [
              "<div>\n",
              "<style scoped>\n",
              "    .dataframe tbody tr th:only-of-type {\n",
              "        vertical-align: middle;\n",
              "    }\n",
              "\n",
              "    .dataframe tbody tr th {\n",
              "        vertical-align: top;\n",
              "    }\n",
              "\n",
              "    .dataframe thead th {\n",
              "        text-align: right;\n",
              "    }\n",
              "</style>\n",
              "<table border=\"1\" class=\"dataframe\">\n",
              "  <thead>\n",
              "    <tr style=\"text-align: right;\">\n",
              "      <th></th>\n",
              "      <th>Student ID</th>\n",
              "      <th>Surname</th>\n",
              "      <th>First Name</th>\n",
              "      <th>Code</th>\n",
              "    </tr>\n",
              "  </thead>\n",
              "  <tbody>\n",
              "    <tr>\n",
              "      <th>0</th>\n",
              "      <td>2000129</td>\n",
              "      <td>Ho</td>\n",
              "      <td>CongThanh</td>\n",
              "      <td>3A</td>\n",
              "    </tr>\n",
              "    <tr>\n",
              "      <th>1</th>\n",
              "      <td>2000104</td>\n",
              "      <td>Truong</td>\n",
              "      <td>ThiDiem</td>\n",
              "      <td>3A</td>\n",
              "    </tr>\n",
              "    <tr>\n",
              "      <th>2</th>\n",
              "      <td>2000318</td>\n",
              "      <td>Le</td>\n",
              "      <td>Ngoc</td>\n",
              "      <td>3A</td>\n",
              "    </tr>\n",
              "    <tr>\n",
              "      <th>3</th>\n",
              "      <td>20020027</td>\n",
              "      <td>Nguyen</td>\n",
              "      <td>SonTung</td>\n",
              "      <td>3A</td>\n",
              "    </tr>\n",
              "    <tr>\n",
              "      <th>4</th>\n",
              "      <td>2000147</td>\n",
              "      <td>Ngo</td>\n",
              "      <td>ThiKhanhLy</td>\n",
              "      <td>3A</td>\n",
              "    </tr>\n",
              "    <tr>\n",
              "      <th>...</th>\n",
              "      <td>...</td>\n",
              "      <td>...</td>\n",
              "      <td>...</td>\n",
              "      <td>...</td>\n",
              "    </tr>\n",
              "    <tr>\n",
              "      <th>76</th>\n",
              "      <td>2000140</td>\n",
              "      <td>Nguyen</td>\n",
              "      <td>CongHung</td>\n",
              "      <td>3A</td>\n",
              "    </tr>\n",
              "    <tr>\n",
              "      <th>77</th>\n",
              "      <td>2000112</td>\n",
              "      <td>Nguyen</td>\n",
              "      <td>TranThienManh</td>\n",
              "      <td>3A</td>\n",
              "    </tr>\n",
              "    <tr>\n",
              "      <th>78</th>\n",
              "      <td>2000136</td>\n",
              "      <td>Phan</td>\n",
              "      <td>BoiTran</td>\n",
              "      <td>3A</td>\n",
              "    </tr>\n",
              "    <tr>\n",
              "      <th>79</th>\n",
              "      <td>2000114</td>\n",
              "      <td>Le</td>\n",
              "      <td>QuangOach</td>\n",
              "      <td>3A</td>\n",
              "    </tr>\n",
              "    <tr>\n",
              "      <th>80</th>\n",
              "      <td>2000134</td>\n",
              "      <td>Hoang</td>\n",
              "      <td>ThaoMy</td>\n",
              "      <td>3A</td>\n",
              "    </tr>\n",
              "  </tbody>\n",
              "</table>\n",
              "<p>81 rows × 4 columns</p>\n",
              "</div>"
            ],
            "text/plain": [
              "   Student ID Surname     First Name Code\n",
              "0     2000129      Ho      CongThanh   3A\n",
              "1     2000104  Truong        ThiDiem   3A\n",
              "2     2000318      Le           Ngoc   3A\n",
              "3    20020027  Nguyen        SonTung   3A\n",
              "4     2000147     Ngo     ThiKhanhLy   3A\n",
              "..        ...     ...            ...  ...\n",
              "76    2000140  Nguyen       CongHung   3A\n",
              "77    2000112  Nguyen  TranThienManh   3A\n",
              "78    2000136    Phan        BoiTran   3A\n",
              "79    2000114      Le      QuangOach   3A\n",
              "80    2000134   Hoang         ThaoMy   3A\n",
              "\n",
              "[81 rows x 4 columns]"
            ]
          },
          "metadata": {},
          "execution_count": 172
        }
      ]
    },
    {
      "cell_type": "code",
      "metadata": {
        "colab": {
          "base_uri": "https://localhost:8080/",
          "height": 17
        },
        "id": "h7xBAjNb0Ux8",
        "outputId": "832882f5-c80e-4d84-fa37-59f09d0a3c15"
      },
      "source": [
        "studentsdf.to_csv('student.csv')\n",
        "files.download('student.csv')"
      ],
      "execution_count": 173,
      "outputs": [
        {
          "output_type": "display_data",
          "data": {
            "application/javascript": [
              "\n",
              "    async function download(id, filename, size) {\n",
              "      if (!google.colab.kernel.accessAllowed) {\n",
              "        return;\n",
              "      }\n",
              "      const div = document.createElement('div');\n",
              "      const label = document.createElement('label');\n",
              "      label.textContent = `Downloading \"${filename}\": `;\n",
              "      div.appendChild(label);\n",
              "      const progress = document.createElement('progress');\n",
              "      progress.max = size;\n",
              "      div.appendChild(progress);\n",
              "      document.body.appendChild(div);\n",
              "\n",
              "      const buffers = [];\n",
              "      let downloaded = 0;\n",
              "\n",
              "      const channel = await google.colab.kernel.comms.open(id);\n",
              "      // Send a message to notify the kernel that we're ready.\n",
              "      channel.send({})\n",
              "\n",
              "      for await (const message of channel.messages) {\n",
              "        // Send a message to notify the kernel that we're ready.\n",
              "        channel.send({})\n",
              "        if (message.buffers) {\n",
              "          for (const buffer of message.buffers) {\n",
              "            buffers.push(buffer);\n",
              "            downloaded += buffer.byteLength;\n",
              "            progress.value = downloaded;\n",
              "          }\n",
              "        }\n",
              "      }\n",
              "      const blob = new Blob(buffers, {type: 'application/binary'});\n",
              "      const a = document.createElement('a');\n",
              "      a.href = window.URL.createObjectURL(blob);\n",
              "      a.download = filename;\n",
              "      div.appendChild(a);\n",
              "      a.click();\n",
              "      div.remove();\n",
              "    }\n",
              "  "
            ],
            "text/plain": [
              "<IPython.core.display.Javascript object>"
            ]
          },
          "metadata": {}
        },
        {
          "output_type": "display_data",
          "data": {
            "application/javascript": [
              "download(\"download_0df9fd57-d274-48ba-b008-9bf3ba1af31d\", \"student.csv\", 2249)"
            ],
            "text/plain": [
              "<IPython.core.display.Javascript object>"
            ]
          },
          "metadata": {}
        }
      ]
    },
    {
      "cell_type": "markdown",
      "metadata": {
        "id": "BQIcG_jhJmEL"
      },
      "source": [
        "#Question 3"
      ]
    },
    {
      "cell_type": "code",
      "metadata": {
        "id": "yb064b68Jpma"
      },
      "source": [
        "height = 600 \n",
        "width = 463"
      ],
      "execution_count": 174,
      "outputs": []
    },
    {
      "cell_type": "code",
      "metadata": {
        "id": "GterQ8SGULQD"
      },
      "source": [
        "img_list = list()\n",
        "for name in filename: \n",
        "  if name == '.DS_Store': continue\n",
        "  img = plt.imread('/content/drive/MyDrive/data/' + name)\n",
        "  img = cv2.resize(img, (width, height), interpolation = cv2.INTER_AREA)\n",
        "  img = img[90:, :]\n",
        "  img_list.append(img)"
      ],
      "execution_count": 176,
      "outputs": []
    },
    {
      "cell_type": "code",
      "metadata": {
        "id": "g1CNHJ2FXDyP"
      },
      "source": [
        "answerchoice = ['A', 'B', 'C', 'D', 'E']\n",
        "answer = 5 \n",
        "part = 5\n",
        "npart = 6\n",
        "halfquest = 30\n",
        "quest = 60\n",
        "\n",
        "def grid(): \n",
        "  _grid = [] \n",
        "  for i in range(quest): \n",
        "    _grid.append([])\n",
        "    for j in range(answer): \n",
        "      _grid[i].append(0)\n",
        "  return _grid"
      ],
      "execution_count": 177,
      "outputs": []
    },
    {
      "cell_type": "code",
      "metadata": {
        "id": "vRyW_eSLLsPA"
      },
      "source": [
        "def detect_checked(img, only_firstfive=False): \n",
        "  img_copy = img.copy()\n",
        "  left_side = img[:, 80:200]\n",
        "  right_side = img[:, 290:410]\n",
        "  gray_img = cv2.cvtColor(img, cv2.COLOR_BGR2GRAY)\n",
        "  blur_img = cv2.GaussianBlur(gray_img, (5, 5), 0)\n",
        "\n",
        "  left_side = left_side[:490, :]\n",
        "  right_side = right_side[:490, :]\n",
        "  sides = [left_side, right_side]\n",
        "\n",
        "  data_out = grid()\n",
        "  if only_firstfive: \n",
        "    for o in range(1): \n",
        "      part_height = sides[o].shape[0] // npart\n",
        "      for pc in range(1): \n",
        "        check_part(sides, o, pc, data_out)\n",
        "    return data_out\n",
        "  for o in range(2): \n",
        "    part_height = sides[o].shape[0] // npart\n",
        "    for pc in range(npart): \n",
        "      check_part(sides, o, pc, data_out)\n",
        "  return data_out"
      ],
      "execution_count": 178,
      "outputs": []
    },
    {
      "cell_type": "code",
      "metadata": {
        "id": "wbJywUZSYRc3"
      },
      "source": [
        "def check_part(sides, pst, pc, data_out): \n",
        "  part = sides[pst][(80*pc):80*(pc+1), :]\n",
        "  part = part[5:70, :]\n",
        "  gray = cv2.cvtColor(part, cv2.COLOR_BGR2GRAY)\n",
        "  _, threshold = cv2.threshold(gray, 20, 5, cv2.THRESH_BINARY_INV)"
      ],
      "execution_count": 179,
      "outputs": []
    },
    {
      "cell_type": "code",
      "metadata": {
        "id": "yXDXSmzPK0Tb"
      },
      "source": [
        "studentclone = studentlist.copy()\n",
        "for (i, image) in enumerate(img_list):\n",
        "  student = studentclone[i].copy()\n",
        "  checked_data = detect_checked(image, only_firstfive=True)\n",
        "  checked_data = checked_data[:5]\n",
        "  for question_data in checked_data: \n",
        "    for j in range(len(question_data)):\n",
        "      if question_data[j] == 1:\n",
        "        student.append(character_table[j])\n",
        "  studentclone[i] = student"
      ],
      "execution_count": 180,
      "outputs": []
    },
    {
      "cell_type": "code",
      "metadata": {
        "id": "mXKdHWbsZD0O"
      },
      "source": [
        "fivefirst_frame = pd.DataFrame(studentclone, columns=['Student ID', 'Surname', 'First Name', 'Code'])"
      ],
      "execution_count": 181,
      "outputs": []
    },
    {
      "cell_type": "markdown",
      "metadata": {
        "id": "7A0771uIafdl"
      },
      "source": [
        "#Question 5"
      ]
    },
    {
      "cell_type": "code",
      "metadata": {
        "id": "Pz5alUg5c6M2"
      },
      "source": [
        "def detectAnswerData(): \n",
        "  answer_data = ['' for i in range(quest)]\n",
        "  answer_image = plt.imread('/content/drive/MyDrive/3A.png')\n",
        "  answer_image = cv2.resize(answer_image, (width, height), interpolation = cv2.INTER_AREA)\n",
        "  answer_image = answer_image[90:, :]\n",
        "  checked_data = detect_checked(answer_image)\n",
        "  for i in range(len(checked_data)): \n",
        "    for j in range(len(checked_data[i])): \n",
        "      if checked_data[i][j]: \n",
        "        answer_data[i] = character_table[j]\n",
        "  return answer_data\n"
      ],
      "execution_count": 182,
      "outputs": []
    },
    {
      "cell_type": "code",
      "metadata": {
        "id": "yCoCqK7vaZEC"
      },
      "source": [
        "studentlist1 = studentlist.copy()\n",
        "\n",
        "answer_data = detectAnswerData()\n",
        "\n",
        "for i in range(len(studentlist1)): \n",
        "  image = img_list[i]\n",
        "  student = studentlist1[i].copy()\n",
        "  checked_data = detect_checked(image)\n",
        "  for (question_index, question_data) in enumerate(checked_data):\n",
        "    for j in range(len(question_data)): \n",
        "      if question_data[j] == 1: \n",
        "        result = answerchoice[j]\n",
        "        student.append(result)\n",
        "        check += 1 \n",
        "        if result == answer_data[question_index]: \n",
        "          if is_statistical: statistical_table[question_index] += 1 \n",
        "          score += 1 \n",
        "  score = (score/60) * 100\n",
        "  student.append(score)\n",
        "  studentlist1[i] = student\n",
        "\n",
        "data_frame = pd.DataFrame(studentlist1)\n",
        "\n",
        "grading_columns = ['ID',  'Score']\n",
        "grading_data = [[item[0], item[-1]] for item in studentlist1]  "
      ],
      "execution_count": 183,
      "outputs": []
    },
    {
      "cell_type": "code",
      "metadata": {
        "id": "SLz0u0cxjRUH"
      },
      "source": [
        "for i in range(len(studentlist1)):\n",
        "  if len(studentlist1[i]) > 65: \n",
        "    print(studentlist1[i])\n",
        "  grading_data_frame = pd.DataFrame(grading_data, columns=grading_columns)"
      ],
      "execution_count": 186,
      "outputs": []
    },
    {
      "cell_type": "code",
      "metadata": {
        "id": "6drpolwTb1y6"
      },
      "source": [
        "grading_data_frame.to_csv('grading.csv')"
      ],
      "execution_count": 185,
      "outputs": []
    }
  ]
}